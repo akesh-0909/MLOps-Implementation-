{
 "cells": [
  {
   "cell_type": "code",
   "execution_count": 2,
   "id": "e0ade9b5-ffef-4293-910e-43fe800a3058",
   "metadata": {
    "tags": []
   },
   "outputs": [],
   "source": [
    "import os\n",
    "import pandas as pd"
   ]
  },
  {
   "cell_type": "code",
   "execution_count": 8,
   "id": "5521b703-530c-48d9-8421-514d4295fab2",
   "metadata": {
    "tags": []
   },
   "outputs": [],
   "source": [
    "df = pd.read_csv(\"./data_given/winequality.csv\")"
   ]
  },
  {
   "cell_type": "code",
   "execution_count": 10,
   "id": "e4d11c91-0131-4f78-8225-803c387717fd",
   "metadata": {
    "tags": []
   },
   "outputs": [
    {
     "data": {
      "text/plain": [
       "Index(['fixed acidity', 'volatile acidity', 'citric acid', 'residual sugar',\n",
       "       'chlorides', 'free sulfur dioxide', 'total sulfur dioxide', 'density',\n",
       "       'pH', 'sulphates', 'alcohol', 'TARGET'],\n",
       "      dtype='object')"
      ]
     },
     "execution_count": 10,
     "metadata": {},
     "output_type": "execute_result"
    }
   ],
   "source": [
    "df.columns"
   ]
  },
  {
   "cell_type": "code",
   "execution_count": 21,
   "id": "834e283e-14e5-49ce-9d52-6c8c69d64e43",
   "metadata": {
    "tags": []
   },
   "outputs": [],
   "source": [
    "overview = df.describe()"
   ]
  },
  {
   "cell_type": "code",
   "execution_count": 30,
   "id": "079149b5-168f-471a-9123-0fb962a92a7c",
   "metadata": {
    "tags": []
   },
   "outputs": [
    {
     "data": {
      "text/plain": [
       "{'min': 4.6, 'max': 15.9}"
      ]
     },
     "execution_count": 30,
     "metadata": {},
     "output_type": "execute_result"
    }
   ],
   "source": [
    "overview.loc[['min','max']].to_dict()['fixed acidity']"
   ]
  },
  {
   "cell_type": "code",
   "execution_count": 32,
   "id": "88abae48-5fc4-44fd-a40b-2732a5995125",
   "metadata": {
    "tags": []
   },
   "outputs": [],
   "source": [
    "overview.loc[['min','max']].to_json(\"schema_in.json\")"
   ]
  },
  {
   "cell_type": "code",
   "execution_count": 38,
   "id": "c0f309a1-9bea-4133-80a4-c634c6c91e08",
   "metadata": {
    "tags": []
   },
   "outputs": [],
   "source": [
    "class NotInRange(Exception):\n",
    "    def __init__(self, message = \"Value not in Range\"):\n",
    "        self.message = message\n",
    "        super().__init__(self.message)\n",
    "        "
   ]
  },
  {
   "cell_type": "code",
   "execution_count": 39,
   "id": "a7634f37-0140-451f-9f96-7d049e4f48c5",
   "metadata": {
    "tags": []
   },
   "outputs": [
    {
     "ename": "NotInRange",
     "evalue": "Value not in Range",
     "output_type": "error",
     "traceback": [
      "\u001b[1;31m---------------------------------------------------------------------------\u001b[0m",
      "\u001b[1;31mNotInRange\u001b[0m                                Traceback (most recent call last)",
      "Cell \u001b[1;32mIn[39], line 1\u001b[0m\n\u001b[1;32m----> 1\u001b[0m \u001b[38;5;28;01mraise\u001b[39;00m NotInRange\n",
      "\u001b[1;31mNotInRange\u001b[0m: Value not in Range"
     ]
    }
   ],
   "source": [
    "raise NotInRange"
   ]
  }
 ],
 "metadata": {
  "kernelspec": {
   "display_name": "Python 3 (ipykernel)",
   "language": "python",
   "name": "python3"
  },
  "language_info": {
   "codemirror_mode": {
    "name": "ipython",
    "version": 3
   },
   "file_extension": ".py",
   "mimetype": "text/x-python",
   "name": "python",
   "nbconvert_exporter": "python",
   "pygments_lexer": "ipython3",
   "version": "3.11.5"
  }
 },
 "nbformat": 4,
 "nbformat_minor": 5
}
